{
 "cells": [
  {
   "cell_type": "code",
   "execution_count": null,
   "metadata": {},
   "outputs": [],
   "source": [
    "import os\n",
    "multiTransaction = []\n",
    "TRANSACTION_FILE = 'transaction.csv'\n",
    "def loadInfo():\n",
    "    if os.path.exists(TRANSACTION_FILE):\n",
    "        #r = read-\n",
    "        with open(TRANSACTION_FILE, mode ='r') as file:\n",
    "            reader = csv.DictReader(file)\n",
    "            for row in reader:\n",
    "                transaction = {\n",
    "                    'date': row['date'],\n",
    "                    'description': row['description'],\n",
    "                    'amount' : row['amount'],\n",
    "                    'category': row['category']\n",
    "                        \n",
    "                }\n",
    "                multiTransaction.append(transaction)"
   ]
  },
  {
   "cell_type": "markdown",
   "metadata": {},
   "source": [
    "simple csv file load"
   ]
  },
  {
   "cell_type": "markdown",
   "metadata": {},
   "source": [
    "simple Re format date code"
   ]
  },
  {
   "cell_type": "code",
   "execution_count": null,
   "metadata": {},
   "outputs": [],
   "source": [
    "import re\n",
    "def formatDate(date):\n",
    "    # d matches any digit (equivalent to [0-9])\n",
    "    # {8} specifies exactly 8 occurrences of the preceding element (\\d) \n",
    "    if re.match(r\"^\\d{8}$\", date):\n",
    "        return f\"{date[:2]}-{date[2:4]}-{date[4:]}\"\n",
    "    else:\n",
    "        return None"
   ]
  }
 ],
 "metadata": {
  "kernelspec": {
   "display_name": ".venv",
   "language": "python",
   "name": "python3"
  },
  "language_info": {
   "name": "python",
   "version": "3.12.2"
  }
 },
 "nbformat": 4,
 "nbformat_minor": 2
}
