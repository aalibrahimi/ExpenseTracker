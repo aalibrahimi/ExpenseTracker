{
 "cells": [
  {
   "cell_type": "code",
   "execution_count": null,
   "metadata": {},
   "outputs": [],
   "source": [
    "import os\n",
    "multiTransaction = []\n",
    "TRANSACTION_FILE = 'transaction.csv'\n",
    "def loadInfo():\n",
    "    if os.path.exists(TRANSACTION_FILE):\n",
    "        #r = read-\n",
    "        with open(TRANSACTION_FILE, mode ='r') as file:\n",
    "            reader = csv.DictReader(file)\n",
    "            for row in reader:\n",
    "                transaction = {\n",
    "                    'date': row['date'],\n",
    "                    'description': row['description'],\n",
    "                    'amount' : row['amount'],\n",
    "                    'category': row['category']\n",
    "                        \n",
    "                }\n",
    "                multiTransaction.append(transaction)"
   ]
  },
  {
   "cell_type": "markdown",
   "metadata": {},
   "source": [
    "simple csv file load"
   ]
  },
  {
   "cell_type": "markdown",
   "metadata": {},
   "source": [
    "simple Re format date code"
   ]
  },
  {
   "cell_type": "code",
   "execution_count": null,
   "metadata": {},
   "outputs": [],
   "source": [
    "import re\n",
    "def formatDate(date):\n",
    "    # d matches any digit (equivalent to [0-9])\n",
    "    # {8} specifies exactly 8 occurrences of the preceding element (\\d) \n",
    "    if re.match(r\"^\\d{8}$\", date):\n",
    "        return f\"{date[:2]}-{date[2:4]}-{date[4:]}\"\n",
    "    else:\n",
    "        return None"
   ]
  },
  {
   "cell_type": "code",
   "execution_count": null,
   "metadata": {},
   "outputs": [],
   "source": [
    "  # this is the old method which saved every entry to csv file. not needed since we have database now\n",
    "    # try:   \n",
    "    #     data = request.json\n",
    "    #     if not data or 'date' not in data or 'category' not in data or 'amount' not in data:\n",
    "    #         return jsonify({\"error\": \"Missing required fields\"}), 400\n",
    "\n",
    "    #     date = datetime.strptime(data['date'], '%m-%d-%Y').strftime('%m-%d-%Y')\n",
    "    #     category = data['category']\n",
    "    #     amount = validateAmount(data['amount'])\n",
    "\n",
    "    #     if amount is None:\n",
    "    #         return jsonify({\"error\": \"Invalid amount\"}), 400\n",
    "\n",
    "    #     transy(date, amount, category)\n",
    "    #     saveInfo()\n",
    "    #     return jsonify({'message': 'Expense added successfully'}), 201\n",
    "    # except ValueError as ve:\n",
    "    #     return jsonify({\"error\": f\"Invalid data format: {str(ve)}\"}), 400\n",
    "    # except Exception as e:\n",
    "    #     print(f\"Error in add_expense: {str(e)}\")  # Log the error\n",
    "    #     return jsonify({\"error\": str(e)}), 500"
   ]
  }
 ],
 "metadata": {
  "kernelspec": {
   "display_name": ".venv",
   "language": "python",
   "name": "python3"
  },
  "language_info": {
   "name": "python",
   "version": "3.12.2"
  }
 },
 "nbformat": 4,
 "nbformat_minor": 2
}
