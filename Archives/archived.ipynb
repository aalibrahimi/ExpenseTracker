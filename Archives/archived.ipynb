{
 "cells": [
  {
   "cell_type": "markdown",
   "metadata": {},
   "source": [
    "**For sending notification to user on Windows:**"
   ]
  },
  {
   "cell_type": "code",
   "execution_count": null,
   "metadata": {},
   "outputs": [],
   "source": [
    "def notify():\n",
    "    from win10toast import ToastNotifier\n",
    "\n",
    "    toast = ToastNotifier()\n",
    "\n",
    "    toast.show_toast(\n",
    "        \"Reminder\",\n",
    "        \"Make sure to ALWAYS have you branches up to date before you start coding! And Please work in your VENV at all TIMES! (.venv <tab> scripts <tab> activate) -> to exit: (deactivate)\",\n",
    "        duration = 50,\n",
    "        icon_path = \"./static/alipic.ico\",\n",
    "        threaded = True,\n",
    "    )\n"
   ]
  }
 ],
 "metadata": {
  "language_info": {
   "name": "python"
  }
 },
 "nbformat": 4,
 "nbformat_minor": 2
}
